{
 "cells": [
  {
   "cell_type": "code",
   "execution_count": 1,
   "metadata": {},
   "outputs": [
    {
     "name": "stderr",
     "output_type": "stream",
     "text": [
      "Using TensorFlow backend.\n"
     ]
    }
   ],
   "source": [
    "from keras.layers import Input, Lambda, Dense, Flatten, Conv2D\n",
    "from keras.models import Model\n",
    "from keras.applications.vgg19 import VGG19\n",
    "from keras.applications.resnet50 import preprocess_input\n",
    "from keras.preprocessing import image\n",
    "from keras.preprocessing.image import ImageDataGenerator, load_img\n",
    "from keras.models import Sequential\n",
    "from glob import glob\n",
    "import numpy as np\n",
    "import matplotlib.pyplot as plt"
   ]
  },
  {
   "cell_type": "code",
   "execution_count": 2,
   "metadata": {},
   "outputs": [],
   "source": [
    "Image_Size = [224, 224]\n",
    "train_path = 'Dataset/Train'\n",
    "test_path = 'Dataset/Test'"
   ]
  },
  {
   "cell_type": "code",
   "execution_count": 3,
   "metadata": {},
   "outputs": [],
   "source": [
    "mobilnet = VGG19(input_shape=Image_Size+[3], weights='imagenet', include_top=False)"
   ]
  },
  {
   "cell_type": "code",
   "execution_count": 4,
   "metadata": {},
   "outputs": [],
   "source": [
    "for layer in mobilnet.layers:\n",
    "    layer.trainable = False"
   ]
  },
  {
   "cell_type": "code",
   "execution_count": 5,
   "metadata": {},
   "outputs": [],
   "source": [
    "folders = glob('Dataset/Train/*')"
   ]
  },
  {
   "cell_type": "code",
   "execution_count": 6,
   "metadata": {},
   "outputs": [
    {
     "data": {
      "text/plain": [
       "['Dataset/Train\\\\Parasite', 'Dataset/Train\\\\Uninfected']"
      ]
     },
     "execution_count": 6,
     "metadata": {},
     "output_type": "execute_result"
    }
   ],
   "source": [
    "folders"
   ]
  },
  {
   "cell_type": "code",
   "execution_count": 7,
   "metadata": {},
   "outputs": [],
   "source": [
    "x = Flatten()(mobilnet.output)"
   ]
  },
  {
   "cell_type": "code",
   "execution_count": 8,
   "metadata": {},
   "outputs": [],
   "source": [
    "prediction = Dense(len(folders), activation='softmax')(x)"
   ]
  },
  {
   "cell_type": "code",
   "execution_count": 9,
   "metadata": {},
   "outputs": [],
   "source": [
    "model = Model(inputs=mobilnet.input, outputs = prediction)"
   ]
  },
  {
   "cell_type": "code",
   "execution_count": 10,
   "metadata": {},
   "outputs": [
    {
     "name": "stdout",
     "output_type": "stream",
     "text": [
      "Model: \"model_1\"\n",
      "_________________________________________________________________\n",
      "Layer (type)                 Output Shape              Param #   \n",
      "=================================================================\n",
      "input_1 (InputLayer)         (None, 224, 224, 3)       0         \n",
      "_________________________________________________________________\n",
      "block1_conv1 (Conv2D)        (None, 224, 224, 64)      1792      \n",
      "_________________________________________________________________\n",
      "block1_conv2 (Conv2D)        (None, 224, 224, 64)      36928     \n",
      "_________________________________________________________________\n",
      "block1_pool (MaxPooling2D)   (None, 112, 112, 64)      0         \n",
      "_________________________________________________________________\n",
      "block2_conv1 (Conv2D)        (None, 112, 112, 128)     73856     \n",
      "_________________________________________________________________\n",
      "block2_conv2 (Conv2D)        (None, 112, 112, 128)     147584    \n",
      "_________________________________________________________________\n",
      "block2_pool (MaxPooling2D)   (None, 56, 56, 128)       0         \n",
      "_________________________________________________________________\n",
      "block3_conv1 (Conv2D)        (None, 56, 56, 256)       295168    \n",
      "_________________________________________________________________\n",
      "block3_conv2 (Conv2D)        (None, 56, 56, 256)       590080    \n",
      "_________________________________________________________________\n",
      "block3_conv3 (Conv2D)        (None, 56, 56, 256)       590080    \n",
      "_________________________________________________________________\n",
      "block3_conv4 (Conv2D)        (None, 56, 56, 256)       590080    \n",
      "_________________________________________________________________\n",
      "block3_pool (MaxPooling2D)   (None, 28, 28, 256)       0         \n",
      "_________________________________________________________________\n",
      "block4_conv1 (Conv2D)        (None, 28, 28, 512)       1180160   \n",
      "_________________________________________________________________\n",
      "block4_conv2 (Conv2D)        (None, 28, 28, 512)       2359808   \n",
      "_________________________________________________________________\n",
      "block4_conv3 (Conv2D)        (None, 28, 28, 512)       2359808   \n",
      "_________________________________________________________________\n",
      "block4_conv4 (Conv2D)        (None, 28, 28, 512)       2359808   \n",
      "_________________________________________________________________\n",
      "block4_pool (MaxPooling2D)   (None, 14, 14, 512)       0         \n",
      "_________________________________________________________________\n",
      "block5_conv1 (Conv2D)        (None, 14, 14, 512)       2359808   \n",
      "_________________________________________________________________\n",
      "block5_conv2 (Conv2D)        (None, 14, 14, 512)       2359808   \n",
      "_________________________________________________________________\n",
      "block5_conv3 (Conv2D)        (None, 14, 14, 512)       2359808   \n",
      "_________________________________________________________________\n",
      "block5_conv4 (Conv2D)        (None, 14, 14, 512)       2359808   \n",
      "_________________________________________________________________\n",
      "block5_pool (MaxPooling2D)   (None, 7, 7, 512)         0         \n",
      "_________________________________________________________________\n",
      "flatten_1 (Flatten)          (None, 25088)             0         \n",
      "_________________________________________________________________\n",
      "dense_1 (Dense)              (None, 2)                 50178     \n",
      "=================================================================\n",
      "Total params: 20,074,562\n",
      "Trainable params: 50,178\n",
      "Non-trainable params: 20,024,384\n",
      "_________________________________________________________________\n"
     ]
    }
   ],
   "source": [
    "model.summary()"
   ]
  },
  {
   "cell_type": "code",
   "execution_count": 11,
   "metadata": {},
   "outputs": [],
   "source": [
    "from keras.layers import MaxPooling2D"
   ]
  },
  {
   "cell_type": "code",
   "execution_count": 12,
   "metadata": {},
   "outputs": [
    {
     "name": "stdout",
     "output_type": "stream",
     "text": [
      "Model: \"sequential_1\"\n",
      "_________________________________________________________________\n",
      "Layer (type)                 Output Shape              Param #   \n",
      "=================================================================\n",
      "conv2d_1 (Conv2D)            (None, 224, 224, 16)      208       \n",
      "_________________________________________________________________\n",
      "max_pooling2d_1 (MaxPooling2 (None, 112, 112, 16)      0         \n",
      "_________________________________________________________________\n",
      "conv2d_2 (Conv2D)            (None, 112, 112, 32)      2080      \n",
      "_________________________________________________________________\n",
      "max_pooling2d_2 (MaxPooling2 (None, 56, 56, 32)        0         \n",
      "_________________________________________________________________\n",
      "conv2d_3 (Conv2D)            (None, 56, 56, 64)        8256      \n",
      "_________________________________________________________________\n",
      "max_pooling2d_3 (MaxPooling2 (None, 28, 28, 64)        0         \n",
      "_________________________________________________________________\n",
      "flatten_2 (Flatten)          (None, 50176)             0         \n",
      "_________________________________________________________________\n",
      "dense_2 (Dense)              (None, 500)               25088500  \n",
      "_________________________________________________________________\n",
      "dense_3 (Dense)              (None, 2)                 1002      \n",
      "=================================================================\n",
      "Total params: 25,100,046\n",
      "Trainable params: 25,100,046\n",
      "Non-trainable params: 0\n",
      "_________________________________________________________________\n"
     ]
    }
   ],
   "source": [
    "model = Sequential()\n",
    "model.add(Conv2D(filters=16,kernel_size=2,padding=\"same\",activation=\"relu\",input_shape=(224,224,3)))\n",
    "model.add(MaxPooling2D(pool_size=2))\n",
    "model.add(Conv2D(filters=32,kernel_size=2,padding=\"same\",activation=\"relu\"))\n",
    "model.add(MaxPooling2D(pool_size=2))\n",
    "model.add(Conv2D(filters=64,kernel_size=2,padding=\"same\",activation=\"relu\"))\n",
    "model.add(MaxPooling2D(pool_size=2))\n",
    "model.add(Flatten())\n",
    "model.add(Dense(500,activation=\"relu\"))\n",
    "model.add(Dense(2,activation=\"softmax\"))\n",
    "model.summary()"
   ]
  },
  {
   "cell_type": "code",
   "execution_count": 13,
   "metadata": {},
   "outputs": [],
   "source": [
    "model.compile(loss=\"categorical_crossentropy\",\n",
    "             optimizer=\"adam\",metrics=[\"accuracy\"])"
   ]
  },
  {
   "cell_type": "code",
   "execution_count": 14,
   "metadata": {},
   "outputs": [],
   "source": [
    "from keras.preprocessing.image import ImageDataGenerator\n",
    "train_datagen = ImageDataGenerator(rescale=1./255,\n",
    "                                  shear_range=0.2,\n",
    "                                  zoom_range=0.2,\n",
    "                                  horizontal_flip=True)\n",
    "test_datagen = ImageDataGenerator(rescale=1./255)"
   ]
  },
  {
   "cell_type": "code",
   "execution_count": 15,
   "metadata": {},
   "outputs": [
    {
     "name": "stdout",
     "output_type": "stream",
     "text": [
      "Found 416 images belonging to 2 classes.\n"
     ]
    }
   ],
   "source": [
    "training_set = train_datagen.flow_from_directory('Dataset/Train',\n",
    "                                                target_size=(224,224),\n",
    "                                                batch_size=32,\n",
    "                                                class_mode = \"categorical\")"
   ]
  },
  {
   "cell_type": "code",
   "execution_count": 16,
   "metadata": {},
   "outputs": [
    {
     "data": {
      "text/plain": [
       "<keras.preprocessing.image.DirectoryIterator at 0x1dffadbc0c8>"
      ]
     },
     "execution_count": 16,
     "metadata": {},
     "output_type": "execute_result"
    }
   ],
   "source": [
    "training_set"
   ]
  },
  {
   "cell_type": "code",
   "execution_count": 17,
   "metadata": {},
   "outputs": [
    {
     "name": "stdout",
     "output_type": "stream",
     "text": [
      "Found 134 images belonging to 2 classes.\n"
     ]
    }
   ],
   "source": [
    "test_set = test_datagen.flow_from_directory('Dataset/Test',\n",
    "                                                target_size=(224,224),\n",
    "                                                batch_size=32,\n",
    "                                                class_mode = \"categorical\")"
   ]
  },
  {
   "cell_type": "code",
   "execution_count": 18,
   "metadata": {},
   "outputs": [
    {
     "name": "stdout",
     "output_type": "stream",
     "text": [
      "Epoch 1/50\n",
      "13/13 [==============================] - 42s 3s/step - loss: 1.3371 - accuracy: 0.5337 - val_loss: 0.3006 - val_accuracy: 0.6791\n",
      "Epoch 2/50\n",
      "13/13 [==============================] - 40s 3s/step - loss: 0.6739 - accuracy: 0.6082 - val_loss: 0.6066 - val_accuracy: 0.6791\n",
      "Epoch 3/50\n",
      "13/13 [==============================] - 40s 3s/step - loss: 0.6087 - accuracy: 0.6755 - val_loss: 1.1086 - val_accuracy: 0.3209\n",
      "Epoch 4/50\n",
      "13/13 [==============================] - 37s 3s/step - loss: 0.5276 - accuracy: 0.7332 - val_loss: 0.9027 - val_accuracy: 0.4328\n",
      "Epoch 5/50\n",
      "13/13 [==============================] - 37s 3s/step - loss: 0.4951 - accuracy: 0.7452 - val_loss: 1.1275 - val_accuracy: 0.4104\n",
      "Epoch 6/50\n",
      "13/13 [==============================] - 37s 3s/step - loss: 0.4089 - accuracy: 0.8149 - val_loss: 0.8759 - val_accuracy: 0.4627\n",
      "Epoch 7/50\n",
      "13/13 [==============================] - 37s 3s/step - loss: 0.4201 - accuracy: 0.7837 - val_loss: 1.0626 - val_accuracy: 0.5075\n",
      "Epoch 8/50\n",
      "13/13 [==============================] - 37s 3s/step - loss: 0.3630 - accuracy: 0.8125 - val_loss: 0.5573 - val_accuracy: 0.5149\n",
      "Epoch 9/50\n",
      "13/13 [==============================] - 37s 3s/step - loss: 0.3901 - accuracy: 0.8413 - val_loss: 0.5164 - val_accuracy: 0.5746\n",
      "Epoch 10/50\n",
      "13/13 [==============================] - 37s 3s/step - loss: 0.3079 - accuracy: 0.8966 - val_loss: 0.8766 - val_accuracy: 0.5970\n",
      "Epoch 11/50\n",
      "13/13 [==============================] - 37s 3s/step - loss: 0.2816 - accuracy: 0.8966 - val_loss: 0.5181 - val_accuracy: 0.6269\n",
      "Epoch 12/50\n",
      "13/13 [==============================] - 37s 3s/step - loss: 0.2495 - accuracy: 0.9111 - val_loss: 0.9112 - val_accuracy: 0.6269\n",
      "Epoch 13/50\n",
      "13/13 [==============================] - 40s 3s/step - loss: 0.2123 - accuracy: 0.9207 - val_loss: 0.6883 - val_accuracy: 0.7537\n",
      "Epoch 14/50\n",
      "13/13 [==============================] - 37s 3s/step - loss: 0.1681 - accuracy: 0.9303 - val_loss: 0.4512 - val_accuracy: 0.8134\n",
      "Epoch 15/50\n",
      "13/13 [==============================] - 40s 3s/step - loss: 0.1414 - accuracy: 0.9663 - val_loss: 0.5497 - val_accuracy: 0.8582\n",
      "Epoch 16/50\n",
      "13/13 [==============================] - 37s 3s/step - loss: 0.1556 - accuracy: 0.9471 - val_loss: 0.3597 - val_accuracy: 0.8731\n",
      "Epoch 17/50\n",
      "13/13 [==============================] - 43s 3s/step - loss: 0.1507 - accuracy: 0.9519 - val_loss: 0.5103 - val_accuracy: 0.8582\n",
      "Epoch 18/50\n",
      "13/13 [==============================] - 39s 3s/step - loss: 0.1517 - accuracy: 0.9543 - val_loss: 0.1258 - val_accuracy: 0.8731\n",
      "Epoch 19/50\n",
      "13/13 [==============================] - 42s 3s/step - loss: 0.1118 - accuracy: 0.9639 - val_loss: 0.2946 - val_accuracy: 0.8582\n",
      "Epoch 20/50\n",
      "13/13 [==============================] - 40s 3s/step - loss: 0.1141 - accuracy: 0.9639 - val_loss: 0.0613 - val_accuracy: 0.8806\n",
      "Epoch 21/50\n",
      "13/13 [==============================] - 40s 3s/step - loss: 0.1050 - accuracy: 0.9663 - val_loss: 0.0358 - val_accuracy: 0.8358\n",
      "Epoch 22/50\n",
      "13/13 [==============================] - 40s 3s/step - loss: 0.0951 - accuracy: 0.9784 - val_loss: 0.2759 - val_accuracy: 0.8881\n",
      "Epoch 23/50\n",
      "13/13 [==============================] - 40s 3s/step - loss: 0.0810 - accuracy: 0.9760 - val_loss: 0.0085 - val_accuracy: 0.8881\n",
      "Epoch 24/50\n",
      "13/13 [==============================] - 40s 3s/step - loss: 0.0814 - accuracy: 0.9832 - val_loss: 0.0022 - val_accuracy: 0.8657\n",
      "Epoch 25/50\n",
      "13/13 [==============================] - 40s 3s/step - loss: 0.0714 - accuracy: 0.9808 - val_loss: 0.3205 - val_accuracy: 0.8582\n",
      "Epoch 26/50\n",
      "13/13 [==============================] - 40s 3s/step - loss: 0.0676 - accuracy: 0.9808 - val_loss: 0.0195 - val_accuracy: 0.9030\n",
      "Epoch 27/50\n",
      "13/13 [==============================] - 43s 3s/step - loss: 0.0811 - accuracy: 0.9712 - val_loss: 0.0338 - val_accuracy: 0.9552\n",
      "Epoch 28/50\n",
      "13/13 [==============================] - 41s 3s/step - loss: 0.0670 - accuracy: 0.9880 - val_loss: 0.0234 - val_accuracy: 0.8433\n",
      "Epoch 29/50\n",
      "13/13 [==============================] - 40s 3s/step - loss: 0.0800 - accuracy: 0.9784 - val_loss: 0.5049 - val_accuracy: 0.9030\n",
      "Epoch 30/50\n",
      "13/13 [==============================] - 43s 3s/step - loss: 0.0413 - accuracy: 0.9880 - val_loss: 0.0468 - val_accuracy: 0.9104\n",
      "Epoch 31/50\n",
      "13/13 [==============================] - 41s 3s/step - loss: 0.0435 - accuracy: 0.9880 - val_loss: 0.0817 - val_accuracy: 0.8731\n",
      "Epoch 32/50\n",
      "13/13 [==============================] - 40s 3s/step - loss: 0.0369 - accuracy: 0.9928 - val_loss: 0.1904 - val_accuracy: 0.9328\n",
      "Epoch 33/50\n",
      "13/13 [==============================] - 40s 3s/step - loss: 0.0385 - accuracy: 0.9832 - val_loss: 0.4119 - val_accuracy: 0.8657\n",
      "Epoch 34/50\n",
      "13/13 [==============================] - 44s 3s/step - loss: 0.0517 - accuracy: 0.9904 - val_loss: 0.0279 - val_accuracy: 0.9254\n",
      "Epoch 35/50\n",
      "13/13 [==============================] - 40s 3s/step - loss: 0.0278 - accuracy: 0.9928 - val_loss: 1.0354 - val_accuracy: 0.8955\n",
      "Epoch 36/50\n",
      "13/13 [==============================] - 40s 3s/step - loss: 0.1061 - accuracy: 0.9712 - val_loss: 0.3105 - val_accuracy: 0.8582\n",
      "Epoch 37/50\n",
      "13/13 [==============================] - 43s 3s/step - loss: 0.1146 - accuracy: 0.9639 - val_loss: 0.0213 - val_accuracy: 0.8433\n",
      "Epoch 38/50\n",
      "13/13 [==============================] - 43s 3s/step - loss: 0.0962 - accuracy: 0.9736 - val_loss: 0.3336 - val_accuracy: 0.9104\n",
      "Epoch 39/50\n",
      "13/13 [==============================] - 43s 3s/step - loss: 0.0709 - accuracy: 0.9784 - val_loss: 0.1066 - val_accuracy: 0.9403\n",
      "Epoch 40/50\n",
      "13/13 [==============================] - 40s 3s/step - loss: 0.0412 - accuracy: 0.9904 - val_loss: 0.7454 - val_accuracy: 0.9030\n",
      "Epoch 41/50\n",
      "13/13 [==============================] - 43s 3s/step - loss: 0.0235 - accuracy: 0.9928 - val_loss: 0.0115 - val_accuracy: 0.9104\n",
      "Epoch 42/50\n",
      "13/13 [==============================] - 38s 3s/step - loss: 0.0664 - accuracy: 0.9784 - val_loss: 0.7166 - val_accuracy: 0.8433\n",
      "Epoch 43/50\n",
      "13/13 [==============================] - 37s 3s/step - loss: 0.1130 - accuracy: 0.9591 - val_loss: 0.4950 - val_accuracy: 0.8433\n",
      "Epoch 44/50\n",
      "13/13 [==============================] - 37s 3s/step - loss: 0.0425 - accuracy: 0.9928 - val_loss: 0.0149 - val_accuracy: 0.9403\n",
      "Epoch 45/50\n",
      "13/13 [==============================] - 37s 3s/step - loss: 0.0346 - accuracy: 0.9952 - val_loss: 0.8378 - val_accuracy: 0.8731\n",
      "Epoch 46/50\n",
      "13/13 [==============================] - 38s 3s/step - loss: 0.1118 - accuracy: 0.9688 - val_loss: 0.0183 - val_accuracy: 0.8806\n",
      "Epoch 47/50\n",
      "13/13 [==============================] - 37s 3s/step - loss: 0.0545 - accuracy: 0.9856 - val_loss: 0.6810 - val_accuracy: 0.9030\n",
      "Epoch 48/50\n",
      "13/13 [==============================] - 37s 3s/step - loss: 0.0325 - accuracy: 0.9904 - val_loss: 0.0077 - val_accuracy: 0.9478\n",
      "Epoch 49/50\n",
      "13/13 [==============================] - 37s 3s/step - loss: 0.0517 - accuracy: 0.9832 - val_loss: 0.1208 - val_accuracy: 0.8806\n",
      "Epoch 50/50\n",
      "13/13 [==============================] - 37s 3s/step - loss: 0.0545 - accuracy: 0.9832 - val_loss: 0.3925 - val_accuracy: 0.8806\n"
     ]
    }
   ],
   "source": [
    "r = model.fit_generator(training_set,validation_data=test_set,epochs=50,\n",
    "                       steps_per_epoch=len(training_set),\n",
    "                       validation_steps=len(test_set))"
   ]
  },
  {
   "cell_type": "code",
   "execution_count": 19,
   "metadata": {},
   "outputs": [
    {
     "data": {
      "image/png": "[encoded data removed]",
      "text/plain": [
       "<Figure size 432x288 with 1 Axes>"
      ]
     },
     "metadata": {
      "needs_background": "light"
     },
     "output_type": "display_data"
    },
    {
     "data": {
      "image/png": "[encoded data removed]",
      "text/plain": [
       "<Figure size 432x288 with 1 Axes>"
      ]
     },
     "metadata": {
      "needs_background": "light"
     },
     "output_type": "display_data"
    },
    {
     "data": {
      "text/plain": [
       "<Figure size 432x288 with 0 Axes>"
      ]
     },
     "metadata": {},
     "output_type": "display_data"
    }
   ],
   "source": [
    "plt.plot(r.history['loss'],label='train loss')\n",
    "plt.plot(r.history['val_loss'],label='val loss')\n",
    "plt.legend()\n",
    "plt.show()\n",
    "plt.savefig('LossVal_loss')\n",
    "\n",
    "plt.plot(r.history['accuracy'],label='train acc')\n",
    "plt.plot(r.history['val_accuracy'],label='val acc')\n",
    "plt.legend()\n",
    "plt.show()\n",
    "plt.savefig('AccVal_acc')"
   ]
  },
  {
   "cell_type": "code",
   "execution_count": 20,
   "metadata": {},
   "outputs": [],
   "source": [
    "from keras.models import load_model\n",
    "model.save('model_vgg19.h5')"
   ]
  },
  {
   "cell_type": "code",
   "execution_count": 21,
   "metadata": {},
   "outputs": [],
   "source": [
    "y_pred = model.predict(test_set)"
   ]
  },
  {
   "cell_type": "code",
   "execution_count": 22,
   "metadata": {},
   "outputs": [
    {
     "data": {
      "text/plain": [
       "array([[9.19093098e-03, 9.90809083e-01],\n",
       "       [9.99998569e-01, 1.42631586e-06],\n",
       "       [9.99696732e-01, 3.03309498e-04],\n",
       "       [4.28346060e-02, 9.57165420e-01],\n",
       "       [2.76709022e-03, 9.97232974e-01],\n",
       "       [1.12075107e-02, 9.88792479e-01],\n",
       "       [1.11849301e-01, 8.88150692e-01],\n",
       "       [1.12588638e-02, 9.88741100e-01],\n",
       "       [9.95226979e-01, 4.77300165e-03],\n",
       "       [1.91206448e-02, 9.80879366e-01],\n",
       "       [9.99877572e-01, 1.22366779e-04],\n",
       "       [3.60164978e-03, 9.96398330e-01],\n",
       "       [1.00000000e+00, 7.51899445e-11],\n",
       "       [2.38849944e-03, 9.97611523e-01],\n",
       "       [1.00000000e+00, 1.68964717e-10],\n",
       "       [4.08437073e-01, 5.91562867e-01],\n",
       "       [1.00000000e+00, 3.55656672e-12],\n",
       "       [2.53236853e-03, 9.97467637e-01],\n",
       "       [9.99979496e-01, 2.05406704e-05],\n",
       "       [9.27189648e-01, 7.28104413e-02],\n",
       "       [3.60079467e-01, 6.39920473e-01],\n",
       "       [9.99999166e-01, 8.00035707e-07],\n",
       "       [1.08217686e-01, 8.91782284e-01],\n",
       "       [1.00000000e+00, 8.34975367e-10],\n",
       "       [8.77134144e-01, 1.22865930e-01],\n",
       "       [9.99999762e-01, 2.90870219e-07],\n",
       "       [9.17527601e-02, 9.08247292e-01],\n",
       "       [4.40668454e-03, 9.95593250e-01],\n",
       "       [1.00000000e+00, 1.59090588e-16],\n",
       "       [1.00000000e+00, 5.95108141e-08],\n",
       "       [9.99905109e-01, 9.48515080e-05],\n",
       "       [6.28720671e-02, 9.37127948e-01],\n",
       "       [1.00000000e+00, 2.66438183e-09],\n",
       "       [1.00000000e+00, 1.64014100e-08],\n",
       "       [1.69273093e-02, 9.83072639e-01],\n",
       "       [3.74672120e-03, 9.96253252e-01],\n",
       "       [1.00000000e+00, 2.47825511e-08],\n",
       "       [9.99994874e-01, 5.06761808e-06],\n",
       "       [1.00000000e+00, 7.18739716e-18],\n",
       "       [2.72586226e-01, 7.27413714e-01],\n",
       "       [9.99919415e-01, 8.06163298e-05],\n",
       "       [9.99996305e-01, 3.73448779e-06],\n",
       "       [6.28356576e-01, 3.71643394e-01],\n",
       "       [1.84499624e-03, 9.98154938e-01],\n",
       "       [1.00000000e+00, 1.60381646e-08],\n",
       "       [1.00000000e+00, 1.18757587e-15],\n",
       "       [9.99999523e-01, 4.38209071e-07],\n",
       "       [2.87119299e-02, 9.71288085e-01],\n",
       "       [1.90910359e-03, 9.98090923e-01],\n",
       "       [9.99846697e-01, 1.53282745e-04],\n",
       "       [4.58935136e-03, 9.95410621e-01],\n",
       "       [3.48180652e-01, 6.51819289e-01],\n",
       "       [9.99999404e-01, 6.21014010e-07],\n",
       "       [2.12269649e-02, 9.78773117e-01],\n",
       "       [9.99454796e-01, 5.45149262e-04],\n",
       "       [9.99999642e-01, 3.45040462e-07],\n",
       "       [9.99988079e-01, 1.19682600e-05],\n",
       "       [1.00000000e+00, 2.48594302e-20],\n",
       "       [9.99999285e-01, 7.61474155e-07],\n",
       "       [7.57501051e-02, 9.24249828e-01],\n",
       "       [5.35641471e-03, 9.94643569e-01],\n",
       "       [1.00000000e+00, 5.21342215e-16],\n",
       "       [1.48471907e-01, 8.51528108e-01],\n",
       "       [3.95301450e-03, 9.96046960e-01],\n",
       "       [1.00000000e+00, 3.15604404e-10],\n",
       "       [7.03691542e-01, 2.96308488e-01],\n",
       "       [9.99985695e-01, 1.43595762e-05],\n",
       "       [1.63878314e-02, 9.83612239e-01],\n",
       "       [9.99427676e-01, 5.72369783e-04],\n",
       "       [9.99985933e-01, 1.40357452e-05],\n",
       "       [6.79736305e-03, 9.93202627e-01],\n",
       "       [3.04277301e-01, 6.95722759e-01],\n",
       "       [9.18656308e-03, 9.90813434e-01],\n",
       "       [4.23491925e-01, 5.76508105e-01],\n",
       "       [1.00000000e+00, 1.51447878e-18],\n",
       "       [9.99999762e-01, 2.54540055e-07],\n",
       "       [1.76468212e-03, 9.98235345e-01],\n",
       "       [9.98971581e-01, 1.02841272e-03],\n",
       "       [8.07291921e-03, 9.91927028e-01],\n",
       "       [1.99348330e-02, 9.80065167e-01],\n",
       "       [9.99981999e-01, 1.79658600e-05],\n",
       "       [8.32826123e-02, 9.16717470e-01],\n",
       "       [5.09436289e-03, 9.94905710e-01],\n",
       "       [9.99999762e-01, 2.84089651e-07],\n",
       "       [1.36997169e-02, 9.86300290e-01],\n",
       "       [9.99990106e-01, 9.84635881e-06],\n",
       "       [1.00000000e+00, 4.81909826e-23],\n",
       "       [9.99998689e-01, 1.34509446e-06],\n",
       "       [1.06346253e-02, 9.89365339e-01],\n",
       "       [9.98497009e-01, 1.50294718e-03],\n",
       "       [2.74552405e-03, 9.97254431e-01],\n",
       "       [1.00000000e+00, 1.19042678e-10],\n",
       "       [9.99980807e-01, 1.92220505e-05],\n",
       "       [9.99990225e-01, 9.75665262e-06],\n",
       "       [1.32251039e-01, 8.67748976e-01],\n",
       "       [1.00000000e+00, 5.16593079e-09],\n",
       "       [1.00000000e+00, 4.60077709e-09],\n",
       "       [4.12579020e-03, 9.95874226e-01],\n",
       "       [9.99935627e-01, 6.43748863e-05],\n",
       "       [9.99943852e-01, 5.61881279e-05],\n",
       "       [1.79660562e-02, 9.82033968e-01],\n",
       "       [5.27397878e-02, 9.47260261e-01],\n",
       "       [1.00000000e+00, 6.89375552e-15],\n",
       "       [2.21392997e-02, 9.77860689e-01],\n",
       "       [9.98645604e-01, 1.35434803e-03],\n",
       "       [9.99999642e-01, 3.87058378e-07],\n",
       "       [7.50972750e-03, 9.92490232e-01],\n",
       "       [9.99999404e-01, 5.58334250e-07],\n",
       "       [3.74462549e-03, 9.96255398e-01],\n",
       "       [1.00000000e+00, 1.54268020e-16],\n",
       "       [1.02891168e-02, 9.89710867e-01],\n",
       "       [1.00000000e+00, 3.37529238e-27],\n",
       "       [1.00000000e+00, 3.67074335e-08],\n",
       "       [4.10786495e-02, 9.58921313e-01],\n",
       "       [1.00000000e+00, 2.78768089e-12],\n",
       "       [9.99999881e-01, 1.03055903e-07],\n",
       "       [1.12245291e-01, 8.87754738e-01],\n",
       "       [8.87053728e-01, 1.12946227e-01],\n",
       "       [1.00000000e+00, 4.75408124e-13],\n",
       "       [4.81452700e-03, 9.95185435e-01],\n",
       "       [1.00000000e+00, 3.44989731e-10],\n",
       "       [9.99997735e-01, 2.27287319e-06],\n",
       "       [4.99919476e-03, 9.95000780e-01],\n",
       "       [9.99998808e-01, 1.16144770e-06],\n",
       "       [1.00000000e+00, 9.28623234e-28],\n",
       "       [8.10650736e-03, 9.91893530e-01],\n",
       "       [8.74740444e-03, 9.91252601e-01],\n",
       "       [1.00000000e+00, 1.07417755e-10],\n",
       "       [9.07736458e-03, 9.90922630e-01],\n",
       "       [2.91823149e-02, 9.70817626e-01],\n",
       "       [1.00000000e+00, 3.47991724e-09],\n",
       "       [9.99984741e-01, 1.52703487e-05],\n",
       "       [1.23761955e-03, 9.98762369e-01],\n",
       "       [9.99906301e-01, 9.37190416e-05]], dtype=float32)"
      ]
     },
     "execution_count": 22,
     "metadata": {},
     "output_type": "execute_result"
    }
   ],
   "source": [
    "y_pred"
   ]
  },
  {
   "cell_type": "code",
   "execution_count": 23,
   "metadata": {},
   "outputs": [],
   "source": [
    "import numpy as np\n",
    "y_pred = np.argmax(y_pred, axis=1)"
   ]
  },
  {
   "cell_type": "code",
   "execution_count": 24,
   "metadata": {},
   "outputs": [
    {
     "data": {
      "text/plain": [
       "array([1, 0, 0, 1, 1, 1, 1, 1, 0, 1, 0, 1, 0, 1, 0, 1, 0, 1, 0, 0, 1, 0,\n",
       "       1, 0, 0, 0, 1, 1, 0, 0, 0, 1, 0, 0, 1, 1, 0, 0, 0, 1, 0, 0, 0, 1,\n",
       "       0, 0, 0, 1, 1, 0, 1, 1, 0, 1, 0, 0, 0, 0, 0, 1, 1, 0, 1, 1, 0, 0,\n",
       "       0, 1, 0, 0, 1, 1, 1, 1, 0, 0, 1, 0, 1, 1, 0, 1, 1, 0, 1, 0, 0, 0,\n",
       "       1, 0, 1, 0, 0, 0, 1, 0, 0, 1, 0, 0, 1, 1, 0, 1, 0, 0, 1, 0, 1, 0,\n",
       "       1, 0, 0, 1, 0, 0, 1, 0, 0, 1, 0, 0, 1, 0, 0, 1, 1, 0, 1, 1, 0, 0,\n",
       "       1, 0], dtype=int64)"
      ]
     },
     "execution_count": 24,
     "metadata": {},
     "output_type": "execute_result"
    }
   ],
   "source": [
    "y_pred"
   ]
  },
  {
   "cell_type": "code",
   "execution_count": 25,
   "metadata": {},
   "outputs": [],
   "source": [
    "from keras.models import load_model\n",
    "from keras.preprocessing import image"
   ]
  },
  {
   "cell_type": "code",
   "execution_count": 26,
   "metadata": {},
   "outputs": [],
   "source": [
    "model=load_model('model_vgg19.h5')"
   ]
  },
  {
   "cell_type": "code",
   "execution_count": 27,
   "metadata": {},
   "outputs": [],
   "source": [
    "img=image.load_img('Dataset/Test/parasite/C39P4thinF_original_IMG_20150622_105554_cell_10.png',target_size=(224,224))"
   ]
  },
  {
   "cell_type": "code",
   "execution_count": 28,
   "metadata": {},
   "outputs": [
    {
     "data": {
      "text/plain": [
       "array([[[0., 0., 0.],\n",
       "        [0., 0., 0.],\n",
       "        [0., 0., 0.],\n",
       "        ...,\n",
       "        [0., 0., 0.],\n",
       "        [0., 0., 0.],\n",
       "        [0., 0., 0.]],\n",
       "\n",
       "       [[0., 0., 0.],\n",
       "        [0., 0., 0.],\n",
       "        [0., 0., 0.],\n",
       "        ...,\n",
       "        [0., 0., 0.],\n",
       "        [0., 0., 0.],\n",
       "        [0., 0., 0.]],\n",
       "\n",
       "       [[0., 0., 0.],\n",
       "        [0., 0., 0.],\n",
       "        [0., 0., 0.],\n",
       "        ...,\n",
       "        [0., 0., 0.],\n",
       "        [0., 0., 0.],\n",
       "        [0., 0., 0.]],\n",
       "\n",
       "       ...,\n",
       "\n",
       "       [[0., 0., 0.],\n",
       "        [0., 0., 0.],\n",
       "        [0., 0., 0.],\n",
       "        ...,\n",
       "        [0., 0., 0.],\n",
       "        [0., 0., 0.],\n",
       "        [0., 0., 0.]],\n",
       "\n",
       "       [[0., 0., 0.],\n",
       "        [0., 0., 0.],\n",
       "        [0., 0., 0.],\n",
       "        ...,\n",
       "        [0., 0., 0.],\n",
       "        [0., 0., 0.],\n",
       "        [0., 0., 0.]],\n",
       "\n",
       "       [[0., 0., 0.],\n",
       "        [0., 0., 0.],\n",
       "        [0., 0., 0.],\n",
       "        ...,\n",
       "        [0., 0., 0.],\n",
       "        [0., 0., 0.],\n",
       "        [0., 0., 0.]]], dtype=float32)"
      ]
     },
     "execution_count": 28,
     "metadata": {},
     "output_type": "execute_result"
    }
   ],
   "source": [
    "x = image.img_to_array(img)\n",
    "x"
   ]
  },
  {
   "cell_type": "code",
   "execution_count": 29,
   "metadata": {},
   "outputs": [
    {
     "data": {
      "text/plain": [
       "(224, 224, 3)"
      ]
     },
     "execution_count": 29,
     "metadata": {},
     "output_type": "execute_result"
    }
   ],
   "source": [
    "x.shape"
   ]
  },
  {
   "cell_type": "code",
   "execution_count": 30,
   "metadata": {},
   "outputs": [],
   "source": [
    "x = x/255"
   ]
  },
  {
   "cell_type": "code",
   "execution_count": 31,
   "metadata": {},
   "outputs": [
    {
     "data": {
      "text/plain": [
       "(1, 224, 224, 3)"
      ]
     },
     "execution_count": 31,
     "metadata": {},
     "output_type": "execute_result"
    }
   ],
   "source": [
    "x = np.expand_dims(x,axis=0)\n",
    "img_data=preprocess_input(x)\n",
    "img_data.shape"
   ]
  },
  {
   "cell_type": "code",
   "execution_count": 32,
   "metadata": {},
   "outputs": [
    {
     "data": {
      "text/plain": [
       "array([[1., 0.]], dtype=float32)"
      ]
     },
     "execution_count": 32,
     "metadata": {},
     "output_type": "execute_result"
    }
   ],
   "source": [
    "model.predict(img_data)"
   ]
  },
  {
   "cell_type": "code",
   "execution_count": 33,
   "metadata": {},
   "outputs": [],
   "source": [
    "a=np.argmax(model.predict(img_data),axis=1)"
   ]
  },
  {
   "cell_type": "code",
   "execution_count": 34,
   "metadata": {},
   "outputs": [
    {
     "name": "stdout",
     "output_type": "stream",
     "text": [
      "Infected\n"
     ]
    }
   ],
   "source": [
    "if(a==1):\n",
    "    print(\"Uninfected\")\n",
    "else:\n",
    "    print(\"Infected\")"
   ]
  },
  {
   "cell_type": "code",
   "execution_count": null,
   "metadata": {},
   "outputs": [],
   "source": []
  }
 ],
 "metadata": {
  "kernelspec": {
   "display_name": "Python 3",
   "language": "python",
   "name": "python3"
  },
  "language_info": {
   "codemirror_mode": {
    "name": "ipython",
    "version": 3
   },
   "file_extension": ".py",
   "mimetype": "text/x-python",
   "name": "python",
   "nbconvert_exporter": "python",
   "pygments_lexer": "ipython3",
   "version": "3.7.4"
  }
 },
 "nbformat": 4,
 "nbformat_minor": 2
}
